{
  "nbformat": 4,
  "nbformat_minor": 0,
  "metadata": {
    "colab": {
      "provenance": [],
      "collapsed_sections": []
    },
    "kernelspec": {
      "name": "python3",
      "display_name": "Python 3"
    },
    "language_info": {
      "name": "python"
    }
  },
  "cells": [
    {
      "cell_type": "code",
      "execution_count": null,
      "metadata": {
        "id": "OACT9iO9rGkH"
      },
      "outputs": [],
      "source": [
        "!pip install -q kaggle"
      ]
    },
    {
      "cell_type": "code",
      "source": [
        "!mkdir ~/.kaggle  # creating a kaggle directory"
      ],
      "metadata": {
        "id": "652Vft5lrL-m"
      },
      "execution_count": null,
      "outputs": []
    },
    {
      "cell_type": "code",
      "source": [
        "!cp kaggle.json ~/.kaggle/  # copying json file to folder"
      ],
      "metadata": {
        "id": "TaSyP6SSs5_V"
      },
      "execution_count": null,
      "outputs": []
    },
    {
      "cell_type": "code",
      "source": [
        "!chmod 600 ~/.kaggle/kaggle.json  # changing the permissions to json"
      ],
      "metadata": {
        "id": "PwRM2eWytCvV"
      },
      "execution_count": null,
      "outputs": []
    },
    {
      "cell_type": "code",
      "source": [
        "!kaggle datasets download -d vandhanav/heart-disease-prediction-data"
      ],
      "metadata": {
        "colab": {
          "base_uri": "https://localhost:8080/"
        },
        "id": "4R_qMYLFtRHv",
        "outputId": "9704aa0f-0b49-4433-8a62-cb86dfea055e"
      },
      "execution_count": null,
      "outputs": [
        {
          "output_type": "stream",
          "name": "stdout",
          "text": [
            "Downloading heart-disease-prediction-data.zip to /content\n",
            "\r  0% 0.00/3.41k [00:00<?, ?B/s]\n",
            "\r100% 3.41k/3.41k [00:00<00:00, 3.33MB/s]\n"
          ]
        }
      ]
    },
    {
      "cell_type": "code",
      "source": [
        "!unzip /content/heart-disease-prediction-data.zip"
      ],
      "metadata": {
        "colab": {
          "base_uri": "https://localhost:8080/"
        },
        "id": "KjzvCaqPtcgc",
        "outputId": "c74d3695-dd8c-41aa-95aa-4cca693b930e"
      },
      "execution_count": null,
      "outputs": [
        {
          "output_type": "stream",
          "name": "stdout",
          "text": [
            "Archive:  /content/heart-disease-prediction-data.zip\n",
            "  inflating: Heart_Disease_Prediction.csv  \n"
          ]
        }
      ]
    }
  ]
}