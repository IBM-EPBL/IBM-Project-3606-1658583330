{
  "cells": [
    {
      "cell_type": "markdown",
      "metadata": {
        "id": "fwU2iooz85jt"
      },
      "source": [
        "## Exercises\n",
        "\n",
        "Answer the questions or complete the tasks outlined in bold below, use the specific method described if applicable."
      ]
    },
    {
      "cell_type": "markdown",
      "metadata": {
        "id": "SzBQQ_ml85j1"
      },
      "source": [
        "** What is 7 to the power of 4?**"
      ]
    },
    {
      "cell_type": "code",
      "execution_count": null,
      "metadata": {
        "id": "UhvE4PBC85j3",
        "outputId": "dd781838-35f7-4c40-dd5a-d241c5676b39",
        "colab": {
          "base_uri": "https://localhost:8080/"
        }
      },
      "outputs": [
        {
          "output_type": "execute_result",
          "data": {
            "text/plain": [
              "2401"
            ]
          },
          "metadata": {},
          "execution_count": 3
        }
      ],
      "source": [
        "7**4"
      ]
    },
    {
      "cell_type": "markdown",
      "metadata": {
        "id": "ds8G9S8j85j6"
      },
      "source": [
        "** Split this string:**\n",
        "\n",
        "    s = \"Hi there Sam!\"\n",
        "    \n",
        "**into a list. **"
      ]
    },
    {
      "cell_type": "code",
      "execution_count": null,
      "metadata": {
        "collapsed": true,
        "id": "GD_Tls3H85j7"
      },
      "outputs": [],
      "source": [
        "s = 'Hi there Sam!'"
      ]
    },
    {
      "cell_type": "code",
      "execution_count": null,
      "metadata": {
        "id": "RRGOKoai85j8",
        "outputId": "2a3d3c08-20a3-42ff-a5a7-758824a895c9",
        "colab": {
          "base_uri": "https://localhost:8080/"
        }
      },
      "outputs": [
        {
          "output_type": "execute_result",
          "data": {
            "text/plain": [
              "['Hi', 'there', 'Sam!']"
            ]
          },
          "metadata": {},
          "execution_count": 4
        }
      ],
      "source": [
        "s.split()"
      ]
    },
    {
      "cell_type": "markdown",
      "metadata": {
        "id": "_bBNOu-785j9"
      },
      "source": [
        "** Given the variables:**\n",
        "\n",
        "    planet = \"Earth\"\n",
        "    diameter = 12742\n",
        "\n",
        "** Use .format() to print the following string: **\n",
        "\n",
        "    The diameter of Earth is 12742 kilometers."
      ]
    },
    {
      "cell_type": "code",
      "execution_count": null,
      "metadata": {
        "collapsed": true,
        "id": "2TrzmDcS85j-"
      },
      "outputs": [],
      "source": [
        "planet = \"Earth\"\n",
        "diameter = 12742"
      ]
    },
    {
      "cell_type": "code",
      "execution_count": null,
      "metadata": {
        "id": "s_dQ7_xc85j_",
        "outputId": "f656a0df-4dd4-4210-8a33-ef4ea8e2bcf6",
        "colab": {
          "base_uri": "https://localhost:8080/"
        }
      },
      "outputs": [
        {
          "output_type": "stream",
          "name": "stdout",
          "text": [
            "The diameter of Earth is12742 kilometers.\n"
          ]
        }
      ],
      "source": [
        "print(\"The diameter of {} is{} kilometers.\".format(planet,diameter))"
      ]
    },
    {
      "cell_type": "markdown",
      "metadata": {
        "id": "QAKtN7Hh85kB"
      },
      "source": [
        "** Given this nested list, use indexing to grab the word \"hello\" **"
      ]
    },
    {
      "cell_type": "code",
      "execution_count": null,
      "metadata": {
        "collapsed": true,
        "id": "-7dzQDyK85kD"
      },
      "outputs": [],
      "source": [
        "lst = [1,2,[3,4],[5,[100,200,['hello']],23,11],1,7]"
      ]
    },
    {
      "cell_type": "code",
      "execution_count": null,
      "metadata": {
        "id": "6m5C0sTW85kE",
        "outputId": "ac810b6b-565f-4798-9881-831b3f01725b",
        "colab": {
          "base_uri": "https://localhost:8080/",
          "height": 35
        }
      },
      "outputs": [
        {
          "output_type": "execute_result",
          "data": {
            "text/plain": [
              "'hello'"
            ],
            "application/vnd.google.colaboratory.intrinsic+json": {
              "type": "string"
            }
          },
          "metadata": {},
          "execution_count": 9
        }
      ],
      "source": [
        "lst[3][1][2][0]\n"
      ]
    },
    {
      "cell_type": "markdown",
      "metadata": {
        "id": "9Ma7M4a185kF"
      },
      "source": [
        "** Given this nest dictionary grab the word \"hello\". Be prepared, this will be annoying/tricky **"
      ]
    },
    {
      "cell_type": "code",
      "execution_count": null,
      "metadata": {
        "id": "vrYAxSYN85kG"
      },
      "outputs": [],
      "source": [
        "d = {'k1':[1,2,3,{'tricky':['oh','man','inception',{'target':[1,2,3,'hello']}]}]}"
      ]
    },
    {
      "cell_type": "code",
      "execution_count": null,
      "metadata": {
        "id": "FlILSdm485kH",
        "outputId": "9af14f71-a3f8-4d3e-8bc2-53535669402b",
        "colab": {
          "base_uri": "https://localhost:8080/",
          "height": 35
        }
      },
      "outputs": [
        {
          "output_type": "execute_result",
          "data": {
            "text/plain": [
              "'hello'"
            ],
            "application/vnd.google.colaboratory.intrinsic+json": {
              "type": "string"
            }
          },
          "metadata": {},
          "execution_count": 13
        }
      ],
      "source": [
        "d['k1'][3]['tricky'][3]['target'][3]"
      ]
    },
    {
      "cell_type": "markdown",
      "metadata": {
        "id": "FInV_FKB85kI"
      },
      "source": [
        "** What is the main difference between a tuple and a list? **"
      ]
    },
    {
      "cell_type": "code",
      "execution_count": null,
      "metadata": {
        "collapsed": true,
        "id": "_VBWf00q85kJ"
      },
      "outputs": [],
      "source": [
        "#Mutability: one of the main difference between a tuple is that List is mutable,Whereas a Tuple is immutable."
      ]
    },
    {
      "cell_type": "markdown",
      "metadata": {
        "id": "zP-j0HZj85kK"
      },
      "source": [
        "** Create a function that grabs the email website domain from a string in the form: **\n",
        "\n",
        "    user@domain.com\n",
        "    \n",
        "**So for example, passing \"user@domain.com\" would return: domain.com**"
      ]
    },
    {
      "cell_type": "code",
      "execution_count": null,
      "metadata": {
        "collapsed": true,
        "id": "unvEAwjk85kL"
      },
      "outputs": [],
      "source": [
        "def domainGet(email):\n",
        "    return email.split('@')[-1]"
      ]
    },
    {
      "cell_type": "code",
      "execution_count": null,
      "metadata": {
        "id": "Gb9dspLC85kL",
        "outputId": "9bfe3f8d-ee02-4585-ef1d-43db8fafe7b6",
        "colab": {
          "base_uri": "https://localhost:8080/",
          "height": 35
        }
      },
      "outputs": [
        {
          "output_type": "execute_result",
          "data": {
            "text/plain": [
              "'domain.com'"
            ],
            "application/vnd.google.colaboratory.intrinsic+json": {
              "type": "string"
            }
          },
          "metadata": {},
          "execution_count": 16
        }
      ],
      "source": [
        "domainGet('user@domain.com')"
      ]
    },
    {
      "cell_type": "markdown",
      "metadata": {
        "id": "gYydb-y085kM"
      },
      "source": [
        "** Create a basic function that returns True if the word 'dog' is contained in the input string. Don't worry about edge cases like a punctuation being attached to the word dog, but do account for capitalization. **"
      ]
    },
    {
      "cell_type": "code",
      "execution_count": null,
      "metadata": {
        "collapsed": true,
        "id": "Q4ldLGV785kM"
      },
      "outputs": [],
      "source": [
        "def findDog(st):\n",
        "    return 'dog' in st.lower().split()"
      ]
    },
    {
      "cell_type": "code",
      "execution_count": null,
      "metadata": {
        "id": "EqH6b7yv85kN",
        "outputId": "086e45bb-99aa-4f17-83b5-b8e955aee246",
        "colab": {
          "base_uri": "https://localhost:8080/"
        }
      },
      "outputs": [
        {
          "output_type": "execute_result",
          "data": {
            "text/plain": [
              "True"
            ]
          },
          "metadata": {},
          "execution_count": 18
        }
      ],
      "source": [
        "findDog('In there a dog here?')"
      ]
    },
    {
      "cell_type": "markdown",
      "metadata": {
        "id": "AyHQFALC85kO"
      },
      "source": [
        "** Create a function that counts the number of times the word \"dog\" occurs in a string. Again ignore edge cases. **"
      ]
    },
    {
      "cell_type": "code",
      "execution_count": null,
      "metadata": {
        "id": "6hdc169585kO"
      },
      "outputs": [],
      "source": [
        "def countDog(st):\n",
        "    count=0\n",
        "    for word in st.lower().split():\n",
        "      if word in st.lower().split():\n",
        "        count +=2\n",
        "        return count "
      ]
    },
    {
      "cell_type": "code",
      "execution_count": null,
      "metadata": {
        "id": "igzsvHb385kO",
        "outputId": "c43d6b4d-4779-4e7a-c359-99363f534e23",
        "colab": {
          "base_uri": "https://localhost:8080/"
        }
      },
      "outputs": [
        {
          "output_type": "execute_result",
          "data": {
            "text/plain": [
              "2"
            ]
          },
          "metadata": {},
          "execution_count": 20
        }
      ],
      "source": [
        "countDog('This dog runs faster than the other dog dude!')"
      ]
    },
    {
      "cell_type": "markdown",
      "metadata": {
        "id": "3n7jJt4k85kP"
      },
      "source": [
        "### Problem\n",
        "**You are driving a little too fast, and a police officer stops you. Write a function\n",
        "  to return one of 3 possible results: \"No ticket\", \"Small ticket\", or \"Big Ticket\". \n",
        "  If your speed is 60 or less, the result is \"No Ticket\". If speed is between 61 \n",
        "  and 80 inclusive, the result is \"Small Ticket\". If speed is 81 or more, the result is \"Big    Ticket\". Unless it is your birthday (encoded as a boolean value in the parameters of the function) -- on your birthday, your speed can be 5 higher in all \n",
        "  cases. **"
      ]
    },
    {
      "cell_type": "code",
      "execution_count": null,
      "metadata": {
        "collapsed": true,
        "id": "nvXMkvWk85kQ"
      },
      "outputs": [],
      "source": [
        "def caught_speeding(speed, is_birthday):\n",
        "    \n",
        "    if is_birthday:\n",
        "        speeding = speed - 5\n",
        "    else:\n",
        "        speeding = speed\n",
        "    \n",
        "    if speeding > 80:\n",
        "        return 'Big Ticket'\n",
        "    elif speeding > 60:\n",
        "        return 'Small Ticket'\n",
        "    else:\n",
        "        return 'No Ticket'"
      ]
    },
    {
      "cell_type": "code",
      "execution_count": null,
      "metadata": {
        "id": "BU_UZcyk85kS",
        "outputId": "7dea5a06-0934-4aec-ca27-18135f5fefbd",
        "colab": {
          "base_uri": "https://localhost:8080/",
          "height": 35
        }
      },
      "outputs": [
        {
          "output_type": "execute_result",
          "data": {
            "text/plain": [
              "'Small Ticket'"
            ],
            "application/vnd.google.colaboratory.intrinsic+json": {
              "type": "string"
            }
          },
          "metadata": {},
          "execution_count": 23
        }
      ],
      "source": [
        " caught_speeding(81,True)\n",
        " "
      ]
    },
    {
      "cell_type": "code",
      "execution_count": null,
      "metadata": {
        "id": "p1AGJ7DM85kR",
        "outputId": "f83aa8c3-22a8-473a-fcf2-6141f1da672b",
        "colab": {
          "base_uri": "https://localhost:8080/",
          "height": 35
        }
      },
      "outputs": [
        {
          "output_type": "execute_result",
          "data": {
            "text/plain": [
              "'Big Ticket'"
            ],
            "application/vnd.google.colaboratory.intrinsic+json": {
              "type": "string"
            }
          },
          "metadata": {},
          "execution_count": 24
        }
      ],
      "source": [
        "caught_speeding(81,False)"
      ]
    },
    {
      "cell_type": "markdown",
      "source": [
        "Create an employee list with basic salary values(at least 5 values for 5 employees)  and using a for loop retreive each employee salary and calculate total salary expenditure. "
      ],
      "metadata": {
        "id": "Tie4rC7_kAOC"
      }
    },
    {
      "cell_type": "code",
      "source": [
        " n = int(input('Enter the number of employee: '))\n",
        "employees = {}\n",
        "    \n",
        "for i in range(n):\n",
        "    name = input('Enter the name of the employee: ')\n",
        "    emp_id = input(\"Enter employee Id: \")\n",
        "    sal = int(input(\"Enter the employee salary: \"))\n",
        "    address = input('Enter the employee address: ')\n",
        "    employees[name] = [emp_id, sal, address]\n",
        "\n",
        "while True:\n",
        "    name = input('Enter employee name: ')\n",
        "    info = employees.get(name, -1)\n",
        "    if info == -1:\n",
        "        print('Employee does not exist')\n",
        "    else:\n",
        "        print(f'Employee details are: \\n Employee Id: {info[0]}\\n Salary: {info[1]}\\n Address: info[2])')\n",
        "    \n",
        "    exit_choice = input('Do you want to exit [Yes|No]: ')\n",
        "    if exit_choice == 'Yes' or exit_choice == 'yes':\n",
        "        break"
      ],
      "metadata": {
        "colab": {
          "base_uri": "https://localhost:8080/"
        },
        "id": "nZdmp6MSfPaa",
        "outputId": "5e83f5cc-a41d-4c54-9513-ba8eb6e91d3c"
      },
      "execution_count": null,
      "outputs": [
        {
          "name": "stdout",
          "output_type": "stream",
          "text": [
            "Enter the number of employee: 5\n",
            "Enter the name of the employee: swetha\n",
            "Enter employee Id: 1\n",
            "Enter the employee salary: 20000\n",
            "Enter the employee address: 1/303,thirumalainagar\n",
            "Enter the name of the employee: mohanapriya\n",
            "Enter employee Id: 2\n",
            "Enter the employee salary: 20000\n",
            "Enter the employee address: 12345\n",
            "Enter the name of the employee: aarthi\n",
            "Enter employee Id: 3\n",
            "Enter the employee salary: 20000\n",
            "Enter the employee address: abcd\n",
            "Enter the name of the employee: vandhana\n",
            "Enter employee Id: 4\n",
            "Enter the employee salary: 15000\n",
            "Enter the employee address: efgh\n",
            "Enter the name of the employee: chithra\n",
            "Enter employee Id: 5\n",
            "Enter the employee salary: 20000\n",
            "Enter the employee address: ijklh\n",
            "Enter employee name: aarthi\n",
            "Employee details are: \n",
            " Employee Id: 3\n",
            " Salary: 20000\n",
            " Address: info[2])\n",
            "Do you want to exit [Yes|No]: yes\n"
          ]
        }
      ]
    },
    {
      "cell_type": "code",
      "source": [
        "empsalary=[19000,13500,20000,56000,20000]\n",
        "for i in range(len(empsalary)):\n",
        "  print(\"Salary of Employee\",i,\":\",empsalary[i])\n",
        "  Total=sum(empsalary)\n",
        "  print(\"Total Salary of the Employees are :\",Total)"
      ],
      "metadata": {
        "id": "R5-CdXSKjacN",
        "colab": {
          "base_uri": "https://localhost:8080/"
        },
        "outputId": "1e0ad5d3-3d32-43a8-9a26-645b027a2d7e"
      },
      "execution_count": 1,
      "outputs": [
        {
          "output_type": "stream",
          "name": "stdout",
          "text": [
            "Salary of Employee 0 : 19000\n",
            "Total Salary of the Employees are : 128500\n",
            "Salary of Employee 1 : 13500\n",
            "Total Salary of the Employees are : 128500\n",
            "Salary of Employee 2 : 20000\n",
            "Total Salary of the Employees are : 128500\n",
            "Salary of Employee 3 : 56000\n",
            "Total Salary of the Employees are : 128500\n",
            "Salary of Employee 4 : 20000\n",
            "Total Salary of the Employees are : 128500\n"
          ]
        }
      ]
    },
    {
      "cell_type": "markdown",
      "source": [
        "Create two dictionaries in Python:\n",
        "\n",
        "First one to contain fields as Empid,  Empname,  Basicpay\n",
        "\n",
        "Second dictionary to contain fields as DeptName,  DeptId.\n",
        "\n",
        "Combine both dictionaries. "
      ],
      "metadata": {
        "id": "-L1aiFqRkF5s"
      }
    },
    {
      "cell_type": "code",
      "source": [
        "dict1={'empid':1,'empname':'swetha','basicpay':40000}\n",
        "dict2={'deptname':'sales','deptid':1}\n",
        "dict3=dict(dict1,**dict2)\n",
        "print(dict3)"
      ],
      "metadata": {
        "id": "8ugVoEe0kOsk",
        "colab": {
          "base_uri": "https://localhost:8080/"
        },
        "outputId": "3ffcd4ea-2d9d-4f84-9317-93109ae485fc"
      },
      "execution_count": 2,
      "outputs": [
        {
          "output_type": "stream",
          "name": "stdout",
          "text": [
            "{'empid': 1, 'empname': 'swetha', 'basicpay': 40000, 'deptname': 'sales', 'deptid': 1}\n"
          ]
        }
      ]
    }
  ],
  "metadata": {
    "colab": {
      "provenance": [],
      "collapsed_sections": []
    },
    "kernelspec": {
      "display_name": "Python 3",
      "language": "python",
      "name": "python3"
    },
    "language_info": {
      "codemirror_mode": {
        "name": "ipython",
        "version": 3
      },
      "file_extension": ".py",
      "mimetype": "text/x-python",
      "name": "python",
      "nbconvert_exporter": "python",
      "pygments_lexer": "ipython3",
      "version": "3.8.5"
    }
  },
  "nbformat": 4,
  "nbformat_minor": 0
}